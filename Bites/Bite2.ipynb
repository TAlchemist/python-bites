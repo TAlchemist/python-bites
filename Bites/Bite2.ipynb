{
  "cells": [
    {
      "cell_type": "markdown",
      "metadata": {
        "id": "view-in-github",
        "colab_type": "text"
      },
      "source": [
        "<a href=\"https://colab.research.google.com/github/TAlchemist/python-bites/blob/main/Bites/Bite2.ipynb\" target=\"_parent\"><img src=\"https://colab.research.google.com/assets/colab-badge.svg\" alt=\"Open In Colab\"/></a>"
      ]
    },
    {
      "cell_type": "markdown",
      "id": "36d47814-1681-4474-8e80-89c1796e7ca5",
      "metadata": {
        "tags": [],
        "id": "36d47814-1681-4474-8e80-89c1796e7ca5"
      },
      "source": [
        "# Bite 2: Functions, global and local variables"
      ]
    },
    {
      "cell_type": "markdown",
      "id": "e659c78e-eb23-4c83-8f3b-a40aadbb3efa",
      "metadata": {
        "id": "e659c78e-eb23-4c83-8f3b-a40aadbb3efa"
      },
      "source": [
        "[![Open in Colab](https://colab.research.google.com/assets/colab-badge.svg)](https://colab.research.google.com/github/Curbal-Data-Labs/python-bites/blob/main/Bites/Bite2.ipynb)"
      ]
    },
    {
      "cell_type": "markdown",
      "id": "80183e82-de50-4867-8661-d41e6a03fb57",
      "metadata": {
        "id": "80183e82-de50-4867-8661-d41e6a03fb57"
      },
      "source": [
        "### Video tutorial and Bite 2 available [here](https://curbal.com/curbal-learning-portal/bite-2 )"
      ]
    },
    {
      "cell_type": "markdown",
      "id": "aa5bca8c-7655-463c-82a4-3599b95edd90",
      "metadata": {
        "id": "aa5bca8c-7655-463c-82a4-3599b95edd90"
      },
      "source": [
        "[![Bite 1](https://img.youtube.com/vi/rmR5IjJLFAk/0.jpg)](https://www.youtube.com/watch?v=rmR5IjJLFAk)"
      ]
    },
    {
      "cell_type": "markdown",
      "id": "1b737dc8-12cf-4989-b936-7e00534a36b4",
      "metadata": {
        "id": "1b737dc8-12cf-4989-b936-7e00534a36b4"
      },
      "source": [
        "**1.** Define a function called my_function that will print the user's name"
      ]
    },
    {
      "cell_type": "code",
      "execution_count": 4,
      "id": "9e09f82f-c25a-4953-9205-755d47437036",
      "metadata": {
        "id": "9e09f82f-c25a-4953-9205-755d47437036"
      },
      "outputs": [],
      "source": [
        "def my_function ():\n",
        "  print (\"My name is Rishi\")\n"
      ]
    },
    {
      "cell_type": "markdown",
      "id": "cd815bd3-6e6d-49e6-a6f8-19ab8cf2aa52",
      "metadata": {
        "id": "cd815bd3-6e6d-49e6-a6f8-19ab8cf2aa52"
      },
      "source": [
        "**2.** Execute the function"
      ]
    },
    {
      "cell_type": "code",
      "execution_count": 7,
      "id": "acf5c333-f1d2-42c2-bc0e-59b6b1b953f9",
      "metadata": {
        "id": "acf5c333-f1d2-42c2-bc0e-59b6b1b953f9",
        "outputId": "66da0f65-7830-4a4f-f62c-ae9ff5fce2d5",
        "colab": {
          "base_uri": "https://localhost:8080/"
        }
      },
      "outputs": [
        {
          "output_type": "stream",
          "name": "stdout",
          "text": [
            "My name is Rishi\n"
          ]
        }
      ],
      "source": [
        "my_function()"
      ]
    },
    {
      "cell_type": "markdown",
      "id": "5ec48761-4332-4306-9b2d-6f7832cdb7b3",
      "metadata": {
        "id": "5ec48761-4332-4306-9b2d-6f7832cdb7b3"
      },
      "source": [
        "**3.** Create a function where you can input the name of the user and execute it"
      ]
    },
    {
      "cell_type": "code",
      "execution_count": 20,
      "id": "f663893e-c5a2-4839-abd3-9041e556fdcb",
      "metadata": {
        "id": "f663893e-c5a2-4839-abd3-9041e556fdcb",
        "outputId": "57856299-2f33-436e-8bd5-386f7351a120",
        "colab": {
          "base_uri": "https://localhost:8080/"
        }
      },
      "outputs": [
        {
          "output_type": "stream",
          "name": "stdout",
          "text": [
            "My name is Rishi\n"
          ]
        }
      ],
      "source": [
        "def my_function (username):\n",
        "  print(\"My name is \"+ username)\n",
        "my_function (\"Rishi\")"
      ]
    },
    {
      "cell_type": "markdown",
      "id": "80c92d95-26ec-4b42-8bdd-dd6dabf2c274",
      "metadata": {
        "id": "80c92d95-26ec-4b42-8bdd-dd6dabf2c274"
      },
      "source": [
        "# Global and local variables"
      ]
    },
    {
      "cell_type": "code",
      "source": [
        "def username():\n",
        "  participant = input(\"what is your name\")\n",
        "  print(participant)\n",
        "username ()"
      ],
      "metadata": {
        "id": "l25vigVTZ7pf",
        "outputId": "9e005d82-0aba-4782-c54b-f3c5e6e9289b",
        "colab": {
          "base_uri": "https://localhost:8080/"
        }
      },
      "id": "l25vigVTZ7pf",
      "execution_count": 31,
      "outputs": [
        {
          "output_type": "stream",
          "name": "stdout",
          "text": [
            "what is your nameRishi\n",
            "Rishi\n"
          ]
        }
      ]
    },
    {
      "cell_type": "markdown",
      "id": "e50b8b81-65a7-49e8-9b02-47cfbfc9a12d",
      "metadata": {
        "id": "e50b8b81-65a7-49e8-9b02-47cfbfc9a12d"
      },
      "source": [
        "**4.** Create a function that ask the user for their name, stores it in a variable called \"Participant\""
      ]
    },
    {
      "cell_type": "code",
      "execution_count": 32,
      "id": "c5015083-67e0-4bbd-9638-96364f3d08ba",
      "metadata": {
        "id": "c5015083-67e0-4bbd-9638-96364f3d08ba",
        "outputId": "20a9c3f5-b2ae-43fb-96e5-9141d206b2f0",
        "colab": {
          "base_uri": "https://localhost:8080/",
          "height": 53
        }
      },
      "outputs": [
        {
          "name": "stdout",
          "output_type": "stream",
          "text": [
            "what is your nameRishi\n"
          ]
        },
        {
          "output_type": "execute_result",
          "data": {
            "text/plain": [
              "'Rishi'"
            ],
            "application/vnd.google.colaboratory.intrinsic+json": {
              "type": "string"
            }
          },
          "metadata": {},
          "execution_count": 32
        }
      ],
      "source": [
        "def username():\n",
        "  global participant\n",
        "  participant = input(\"what is your name\")\n",
        "username ()\n",
        "participant"
      ]
    },
    {
      "cell_type": "markdown",
      "id": "755040c2-141d-4d83-bea4-0c55d0d7a805",
      "metadata": {
        "id": "755040c2-141d-4d83-bea4-0c55d0d7a805"
      },
      "source": [
        "**5.** Execute it and print the user name"
      ]
    },
    {
      "cell_type": "code",
      "execution_count": 26,
      "id": "3d4b2774-57be-4806-a567-8e383c7b2051",
      "metadata": {
        "id": "3d4b2774-57be-4806-a567-8e383c7b2051",
        "outputId": "612209da-8419-4b4c-f91a-0729656f188d",
        "colab": {
          "base_uri": "https://localhost:8080/",
          "height": 165
        }
      },
      "outputs": [
        {
          "output_type": "error",
          "ename": "NameError",
          "evalue": "ignored",
          "traceback": [
            "\u001b[0;31m---------------------------------------------------------------------------\u001b[0m",
            "\u001b[0;31mNameError\u001b[0m                                 Traceback (most recent call last)",
            "\u001b[0;32m<ipython-input-26-d7a64d62a605>\u001b[0m in \u001b[0;36m<module>\u001b[0;34m\u001b[0m\n\u001b[0;32m----> 1\u001b[0;31m \u001b[0mparticipant\u001b[0m\u001b[0;34m(\u001b[0m\u001b[0;34m)\u001b[0m\u001b[0;34m\u001b[0m\u001b[0;34m\u001b[0m\u001b[0m\n\u001b[0m",
            "\u001b[0;31mNameError\u001b[0m: name 'participant' is not defined"
          ]
        }
      ],
      "source": []
    },
    {
      "cell_type": "markdown",
      "id": "5bf44e00-a961-4942-ab1d-4265f9fb5028",
      "metadata": {
        "id": "5bf44e00-a961-4942-ab1d-4265f9fb5028"
      },
      "source": [
        "# Bite 2"
      ]
    },
    {
      "cell_type": "code",
      "source": [
        "def intro ():\n",
        "  print(\"A crime has taken place and Curbal Crime Lans (CCL) needs your help.\\n\"\n",
        "  \"\\nThe Crime is a nmurdfer thgat occured sometime on 18th Jan 2018., \\n\"\n",
        "  \"\\and a crime data analyst or curbalist as we call it at CCL, \\n\"\n",
        "  \"is needed to help solve this case. \\n\"\n",
        "  \"\\nAll the crime files will be p[rovided to you, but before you do that: \\n\"\n",
        "    \n",
        "  )\n",
        "\n",
        "def username():\n",
        "  global participant\n",
        "  participant = input(\"What is your name?\")\n",
        "\n",
        "intro()\n",
        "username()\n",
        "\n",
        "print(\"Hello\"+participant+\" , nice to meet you :)\")\n",
        "\n",
        "\n",
        "\n",
        "\n",
        "\n"
      ],
      "metadata": {
        "id": "yG8A4GD4hUBj",
        "outputId": "823a7c1c-33a1-4ca7-946e-b2f39818f838",
        "colab": {
          "base_uri": "https://localhost:8080/"
        }
      },
      "id": "yG8A4GD4hUBj",
      "execution_count": 37,
      "outputs": [
        {
          "output_type": "stream",
          "name": "stdout",
          "text": [
            "A crime has taken place and Curbal Crime Lans (CCL) needs your help.\n",
            "\n",
            "The Crime is a nmurdfer thgat occured sometime on 18th Jan 2018., \n",
            "\u0007nd a crime data analyst or curbalist as we call it at CCL, \n",
            "is needed to help solve this case. \n",
            "\n",
            "All the crime files will be p[rovided to you, but before you do that: \n",
            "\n",
            "What is your name?Rishi\n",
            "HelloRishi , nice to meet you :)\n"
          ]
        }
      ]
    },
    {
      "cell_type": "code",
      "execution_count": 38,
      "id": "989c41ec-5e9e-4f2f-b932-0e8c00ae7b38",
      "metadata": {
        "id": "989c41ec-5e9e-4f2f-b932-0e8c00ae7b38",
        "outputId": "21c22160-7950-4f04-aec2-96852f00f349",
        "colab": {
          "base_uri": "https://localhost:8080/"
        }
      },
      "outputs": [
        {
          "output_type": "stream",
          "name": "stdout",
          "text": [
            "A crime has taken place and Curbal Crime Lans (CCL) needs your help.\n",
            "\n",
            "The Crime is a nmurdfer thgat occured sometime on 18th Jan 2018., \n",
            "\u0007nd a crime data analyst or curbalist as we call it at CCL, \n",
            "is needed to help solve this case. \n",
            "\n",
            "All the crime files will be p[rovided to you, but before you do that: \n",
            "\n",
            "What is your name?Ruth\n",
            "\n",
            "Hello Ruth! welcome to CCL\n",
            "\n"
          ]
        }
      ],
      "source": [
        "def intro():\n",
        "\n",
        " print(\"A crime has taken place and Curbal Crime Lans (CCL) needs your help.\\n\"\n",
        "  \"\\nThe Crime is a nmurdfer thgat occured sometime on 18th Jan 2018., \\n\"\n",
        "  \"\\and a crime data analyst or curbalist as we call it at CCL, \\n\"\n",
        "  \"is needed to help solve this case. \\n\"\n",
        "  \"\\nAll the crime files will be p[rovided to you, but before you do that: \\n\"\n",
        "    \n",
        "  )\n",
        "\n",
        "\n",
        "\n",
        "def username():\n",
        " global participant\n",
        " participant = input(\"What is your name?\")\n",
        "\n",
        "\n",
        "intro()\n",
        "username()\n",
        "print(\"\\nHello \"+ participant + \"! welcome to CCL\\n\")\n",
        "\n"
      ]
    },
    {
      "cell_type": "code",
      "source": [],
      "metadata": {
        "id": "ai_Dsskoebzo"
      },
      "id": "ai_Dsskoebzo",
      "execution_count": null,
      "outputs": []
    }
  ],
  "metadata": {
    "kernelspec": {
      "display_name": "Python 3 (ipykernel)",
      "language": "python",
      "name": "python3"
    },
    "language_info": {
      "codemirror_mode": {
        "name": "ipython",
        "version": 3
      },
      "file_extension": ".py",
      "mimetype": "text/x-python",
      "name": "python",
      "nbconvert_exporter": "python",
      "pygments_lexer": "ipython3",
      "version": "3.9.12"
    },
    "colab": {
      "provenance": [],
      "include_colab_link": true
    }
  },
  "nbformat": 4,
  "nbformat_minor": 5
}