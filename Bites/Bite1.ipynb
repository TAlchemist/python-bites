{
  "cells": [
    {
      "cell_type": "markdown",
      "metadata": {
        "id": "view-in-github",
        "colab_type": "text"
      },
      "source": [
        "<a href=\"https://colab.research.google.com/github/TAlchemist/python-bites/blob/main/Bites/Bite1.ipynb\" target=\"_parent\"><img src=\"https://colab.research.google.com/assets/colab-badge.svg\" alt=\"Open In Colab\"/></a>"
      ]
    },
    {
      "cell_type": "markdown",
      "id": "312580f7-0344-4557-bb2f-2e5f99fa762c",
      "metadata": {
        "id": "312580f7-0344-4557-bb2f-2e5f99fa762c"
      },
      "source": [
        "# Practice 1: Print, user input, variables"
      ]
    },
    {
      "cell_type": "markdown",
      "id": "b2269915-c040-4186-8a8f-efb2d9f1fc60",
      "metadata": {
        "id": "b2269915-c040-4186-8a8f-efb2d9f1fc60"
      },
      "source": [
        "[![Open in Colab](https://colab.research.google.com/assets/colab-badge.svg)](https://colab.research.google.com/github/Curbal-Data-Labs/python-bites/blob/main/Bites/Bite1.ipynb)"
      ]
    },
    {
      "cell_type": "markdown",
      "id": "671378a6-b28c-4387-9136-4d27580c4c69",
      "metadata": {
        "id": "671378a6-b28c-4387-9136-4d27580c4c69"
      },
      "source": [
        "### Video tutorial and Bite 1 available [here](https://curbal.com/curbal-learning-portal/bite-1 )"
      ]
    },
    {
      "cell_type": "markdown",
      "id": "aef26688-fff6-412d-a078-0abcd6ce06c7",
      "metadata": {
        "id": "aef26688-fff6-412d-a078-0abcd6ce06c7"
      },
      "source": [
        "[![Bite 1](https://img.youtube.com/vi/OGqoUGCmqj4/0.jpg)](https://www.youtube.com/watch?v=OGqoUGCmqj4)"
      ]
    },
    {
      "cell_type": "markdown",
      "id": "b8e31ed3-e915-4f84-b44a-26298563e350",
      "metadata": {
        "id": "b8e31ed3-e915-4f84-b44a-26298563e350"
      },
      "source": [
        "**1.** Print \"Hello World! using pyhon and two different string denotations"
      ]
    },
    {
      "cell_type": "code",
      "execution_count": 1,
      "id": "9e03b1af-49aa-4659-8480-40a9b9e9b877",
      "metadata": {
        "id": "9e03b1af-49aa-4659-8480-40a9b9e9b877",
        "outputId": "6e47c4a1-c2f0-4cb4-8b69-a358d9e9ab0e",
        "colab": {
          "base_uri": "https://localhost:8080/"
        }
      },
      "outputs": [
        {
          "output_type": "stream",
          "name": "stdout",
          "text": [
            "Hello World\n"
          ]
        }
      ],
      "source": [
        "print(\"Hello World\")"
      ]
    },
    {
      "cell_type": "markdown",
      "id": "a4e370e4-d36c-4ae1-9e59-9d656c4ddc93",
      "metadata": {
        "tags": [],
        "id": "a4e370e4-d36c-4ae1-9e59-9d656c4ddc93"
      },
      "source": [
        "**2.** Print multiline text"
      ]
    },
    {
      "cell_type": "code",
      "execution_count": 24,
      "id": "8418deda-4d17-4cc6-9282-8907dcdda743",
      "metadata": {
        "id": "8418deda-4d17-4cc6-9282-8907dcdda743",
        "outputId": "f7b4f46f-8fc3-496b-c349-ad1f1814ff18",
        "colab": {
          "base_uri": "https://localhost:8080/"
        }
      },
      "outputs": [
        {
          "output_type": "stream",
          "name": "stdout",
          "text": [
            "My name is Rishi \n",
            "and I am a data engineer\n",
            "but i live in india\n"
          ]
        }
      ],
      "source": [
        "print(\"My name is Rishi \\nand I am a data engineer\"  \n",
        "      \"\\nbut i live in india\")"
      ]
    },
    {
      "cell_type": "markdown",
      "id": "590c0c92-66b6-4b8d-93ba-cbd35d695c75",
      "metadata": {
        "id": "590c0c92-66b6-4b8d-93ba-cbd35d695c75"
      },
      "source": [
        "**3.** Ask the user for their name"
      ]
    },
    {
      "cell_type": "code",
      "execution_count": 25,
      "id": "5ebd716c-7f9e-47db-ab91-416254aa8d5a",
      "metadata": {
        "id": "5ebd716c-7f9e-47db-ab91-416254aa8d5a",
        "outputId": "006b48ca-46e3-4b00-827c-2ecb69789601",
        "colab": {
          "base_uri": "https://localhost:8080/",
          "height": 53
        }
      },
      "outputs": [
        {
          "name": "stdout",
          "output_type": "stream",
          "text": [
            "what is your nameRuth\n"
          ]
        },
        {
          "output_type": "execute_result",
          "data": {
            "text/plain": [
              "'Ruth'"
            ],
            "application/vnd.google.colaboratory.intrinsic+json": {
              "type": "string"
            }
          },
          "metadata": {},
          "execution_count": 25
        }
      ],
      "source": [
        "input (\"what is your name\")"
      ]
    },
    {
      "cell_type": "markdown",
      "id": "c05fa08a-9b5a-485c-9470-cce1ac47a402",
      "metadata": {
        "id": "c05fa08a-9b5a-485c-9470-cce1ac47a402"
      },
      "source": [
        "**4.** Store user input in a variable called \"Username\""
      ]
    },
    {
      "cell_type": "code",
      "execution_count": 26,
      "id": "b6870e01-dc73-4722-82db-a5fc4375451b",
      "metadata": {
        "id": "b6870e01-dc73-4722-82db-a5fc4375451b",
        "outputId": "db48050a-5d91-46b5-aaad-40ff14fca7c9",
        "colab": {
          "base_uri": "https://localhost:8080/"
        }
      },
      "outputs": [
        {
          "name": "stdout",
          "output_type": "stream",
          "text": [
            "What is your nameRishi\n"
          ]
        }
      ],
      "source": [
        "username = input(\"What is your name\")"
      ]
    },
    {
      "cell_type": "markdown",
      "id": "cbeaec34-2327-4b5b-8024-212894538dc6",
      "metadata": {
        "id": "cbeaec34-2327-4b5b-8024-212894538dc6"
      },
      "source": [
        "**5.** Print the username variable"
      ]
    },
    {
      "cell_type": "code",
      "execution_count": 30,
      "id": "2efed9bb-d50b-4dab-9ddd-9a1a34fc8d1a",
      "metadata": {
        "id": "2efed9bb-d50b-4dab-9ddd-9a1a34fc8d1a",
        "outputId": "0ed61a7f-466f-431f-a915-be89bcf5a273",
        "colab": {
          "base_uri": "https://localhost:8080/"
        }
      },
      "outputs": [
        {
          "name": "stdout",
          "output_type": "stream",
          "text": [
            "what is your name\"Rishi\"\n"
          ]
        }
      ],
      "source": [
        "username = input (\"what is your name\")"
      ]
    },
    {
      "cell_type": "code",
      "source": [
        "username "
      ],
      "metadata": {
        "id": "6YpvysCVGoTW",
        "outputId": "71ad2894-539a-4006-a468-6239c113e619",
        "colab": {
          "base_uri": "https://localhost:8080/",
          "height": 35
        }
      },
      "id": "6YpvysCVGoTW",
      "execution_count": 31,
      "outputs": [
        {
          "output_type": "execute_result",
          "data": {
            "text/plain": [
              "'\"Rishi\"'"
            ],
            "application/vnd.google.colaboratory.intrinsic+json": {
              "type": "string"
            }
          },
          "metadata": {},
          "execution_count": 31
        }
      ]
    },
    {
      "cell_type": "markdown",
      "id": "9af5088f-27c3-446c-8fa7-60ff0baca411",
      "metadata": {
        "id": "9af5088f-27c3-446c-8fa7-60ff0baca411"
      },
      "source": [
        "**6.** Concatenate text and variables to print: Hello (Username), nice to meet you :)"
      ]
    },
    {
      "cell_type": "code",
      "source": [
        "username = input (\"What is your name?\")\n",
        "print (\"Hello \" + username+ \", nice to meet you\")  "
      ],
      "metadata": {
        "id": "GEETetftHCdc",
        "outputId": "f4bd0088-18de-4997-e16a-69ae0824af81",
        "colab": {
          "base_uri": "https://localhost:8080/"
        }
      },
      "id": "GEETetftHCdc",
      "execution_count": 39,
      "outputs": [
        {
          "output_type": "stream",
          "name": "stdout",
          "text": [
            "What is your name?Rishi\n",
            "Hello Rishi, nice to meet you\n"
          ]
        }
      ]
    },
    {
      "cell_type": "code",
      "execution_count": 40,
      "id": "17b93a27-024c-41e5-9820-73bfb2d5b5a7",
      "metadata": {
        "id": "17b93a27-024c-41e5-9820-73bfb2d5b5a7",
        "outputId": "955d2171-768d-4cf7-ed3c-89bbff5a5d8b",
        "colab": {
          "base_uri": "https://localhost:8080/"
        }
      },
      "outputs": [
        {
          "output_type": "stream",
          "name": "stdout",
          "text": [
            "Hello username, nice to meet you\n"
          ]
        }
      ],
      "source": [
        "print (\"Hello username, nice to meet you\")"
      ]
    },
    {
      "cell_type": "markdown",
      "id": "6c25ffbe-254a-4589-b205-cd3910bca674",
      "metadata": {
        "id": "6c25ffbe-254a-4589-b205-cd3910bca674"
      },
      "source": [
        "# Bite 1: Create a program that ask for the user name and greets them back "
      ]
    },
    {
      "cell_type": "markdown",
      "id": "052704af-6284-4291-be0f-cc0d4aba9298",
      "metadata": {
        "id": "052704af-6284-4291-be0f-cc0d4aba9298"
      },
      "source": [
        "Check the program [here.](https://curbal.com/curbal-learning-portal/bite-1)"
      ]
    },
    {
      "cell_type": "code",
      "execution_count": null,
      "id": "91bae4fe-2a64-4c03-a371-63cb83ee8a56",
      "metadata": {
        "id": "91bae4fe-2a64-4c03-a371-63cb83ee8a56"
      },
      "outputs": [],
      "source": []
    }
  ],
  "metadata": {
    "kernelspec": {
      "display_name": "Python 3 (ipykernel)",
      "language": "python",
      "name": "python3"
    },
    "language_info": {
      "codemirror_mode": {
        "name": "ipython",
        "version": 3
      },
      "file_extension": ".py",
      "mimetype": "text/x-python",
      "name": "python",
      "nbconvert_exporter": "python",
      "pygments_lexer": "ipython3",
      "version": "3.9.12"
    },
    "colab": {
      "provenance": [],
      "include_colab_link": true
    }
  },
  "nbformat": 4,
  "nbformat_minor": 5
}