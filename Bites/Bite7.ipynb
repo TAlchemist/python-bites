{
  "cells": [
    {
      "cell_type": "markdown",
      "metadata": {
        "id": "view-in-github",
        "colab_type": "text"
      },
      "source": [
        "<a href=\"https://colab.research.google.com/github/TAlchemist/python-bites/blob/main/Bites/Bite7.ipynb\" target=\"_parent\"><img src=\"https://colab.research.google.com/assets/colab-badge.svg\" alt=\"Open In Colab\"/></a>"
      ]
    },
    {
      "cell_type": "markdown",
      "id": "8246f5f2-0255-4359-91da-0b9f5624b880",
      "metadata": {
        "tags": [],
        "id": "8246f5f2-0255-4359-91da-0b9f5624b880"
      },
      "source": [
        "# Bite 7:  Create a location table using Google Maps API"
      ]
    },
    {
      "cell_type": "markdown",
      "id": "041f8bab-75dd-49ad-8942-c81b8816b645",
      "metadata": {
        "id": "041f8bab-75dd-49ad-8942-c81b8816b645"
      },
      "source": [
        "[![Open in Colab](https://colab.research.google.com/assets/colab-badge.svg)](https://colab.research.google.com/github/Curbal-Data-Labs/python-bites/blob/main/Bites/Bite7.ipynb)"
      ]
    },
    {
      "cell_type": "markdown",
      "id": "6bb22642-b093-41ff-951b-e8c8da769d23",
      "metadata": {
        "id": "6bb22642-b093-41ff-951b-e8c8da769d23"
      },
      "source": [
        "### Video tutorial and Bite 7 available [here](https://curbal.com/curbal-learning-portal/bite-7)"
      ]
    },
    {
      "cell_type": "markdown",
      "id": "08e49c3e-b820-4c4b-8994-dc649e4a6597",
      "metadata": {
        "id": "08e49c3e-b820-4c4b-8994-dc649e4a6597"
      },
      "source": [
        "[![Bite 1](https://img.youtube.com/vi/ZgqnPYmEcXw/0.jpg)](https://www.youtube.com/watch?v=ZgqnPYmEcXw)"
      ]
    },
    {
      "cell_type": "markdown",
      "id": "0189c0e6-4d37-4cd1-824d-bcf20364d12f",
      "metadata": {
        "id": "0189c0e6-4d37-4cd1-824d-bcf20364d12f"
      },
      "source": [
        "**1.** Connect to db"
      ]
    },
    {
      "cell_type": "code",
      "execution_count": null,
      "id": "5172c108-b737-4c86-a88f-354d5ddc7057",
      "metadata": {
        "id": "5172c108-b737-4c86-a88f-354d5ddc7057"
      },
      "outputs": [],
      "source": []
    },
    {
      "cell_type": "markdown",
      "id": "0b0f653c-183f-4fa8-92b4-d5b673c37675",
      "metadata": {
        "id": "0b0f653c-183f-4fa8-92b4-d5b673c37675"
      },
      "source": [
        "**2.** Read the crime scene report table"
      ]
    },
    {
      "cell_type": "code",
      "execution_count": null,
      "id": "c0019098-0336-481d-9c74-302ff88c163e",
      "metadata": {
        "id": "c0019098-0336-481d-9c74-302ff88c163e"
      },
      "outputs": [],
      "source": []
    },
    {
      "cell_type": "markdown",
      "id": "87cb2af6-e8b8-4d9f-8c72-305a671b18e9",
      "metadata": {
        "id": "87cb2af6-e8b8-4d9f-8c72-305a671b18e9"
      },
      "source": [
        "**3.** Drop all columns except city and remove duplicates"
      ]
    },
    {
      "cell_type": "code",
      "execution_count": null,
      "id": "6967493b-2cd1-42ea-ab87-03a281b174d3",
      "metadata": {
        "id": "6967493b-2cd1-42ea-ab87-03a281b174d3"
      },
      "outputs": [],
      "source": []
    },
    {
      "cell_type": "markdown",
      "id": "2cbd9db4-cf97-414a-9f21-8403957a5e1c",
      "metadata": {
        "id": "2cbd9db4-cf97-414a-9f21-8403957a5e1c"
      },
      "source": [
        "**4.** Add lat and long columns and copy city column, call it address and append \",US\" "
      ]
    },
    {
      "cell_type": "code",
      "execution_count": null,
      "id": "0d0e0ea7-cf2b-4ba5-be92-da414a12231a",
      "metadata": {
        "id": "0d0e0ea7-cf2b-4ba5-be92-da414a12231a"
      },
      "outputs": [],
      "source": []
    },
    {
      "cell_type": "markdown",
      "id": "fb922478-1538-4362-afef-5b5a2fd4028a",
      "metadata": {
        "id": "fb922478-1538-4362-afef-5b5a2fd4028a"
      },
      "source": [
        "**5.** Get lat and long from google APi (one city only) "
      ]
    },
    {
      "cell_type": "markdown",
      "id": "e43dca86-9b3b-4b57-8c4d-d0e5aa35f309",
      "metadata": {
        "id": "e43dca86-9b3b-4b57-8c4d-d0e5aa35f309"
      },
      "source": [
        "Check the Google maps tutorial here: https://curbal.com/curbal-learning-portal/use-google-maps-api-with-power-bi-desktop"
      ]
    },
    {
      "cell_type": "code",
      "execution_count": null,
      "id": "266fa071-6578-4b3c-8e31-c5ee8518f7fb",
      "metadata": {
        "id": "266fa071-6578-4b3c-8e31-c5ee8518f7fb"
      },
      "outputs": [],
      "source": []
    },
    {
      "cell_type": "markdown",
      "id": "59bc3a7e-4389-4c0c-9bce-b2d07c612a40",
      "metadata": {
        "id": "59bc3a7e-4389-4c0c-9bce-b2d07c612a40"
      },
      "source": [
        "**6.** Get lat and long from google APi for all cities and append to our table"
      ]
    },
    {
      "cell_type": "code",
      "execution_count": null,
      "id": "3ac423ce-759c-40d2-aa37-dc44514cd5e9",
      "metadata": {
        "id": "3ac423ce-759c-40d2-aa37-dc44514cd5e9"
      },
      "outputs": [],
      "source": []
    },
    {
      "cell_type": "markdown",
      "id": "a04cd839-ae0a-4bc1-99d0-21acf98cc39b",
      "metadata": {
        "id": "a04cd839-ae0a-4bc1-99d0-21acf98cc39b"
      },
      "source": [
        "**7.** Save this new table into our databse and call it \"crimes_geo\""
      ]
    },
    {
      "cell_type": "code",
      "execution_count": null,
      "id": "4c761515-6137-4a25-afcb-3565aafc66e6",
      "metadata": {
        "id": "4c761515-6137-4a25-afcb-3565aafc66e6"
      },
      "outputs": [],
      "source": []
    },
    {
      "cell_type": "markdown",
      "id": "b467119c-b5f4-4cfa-bf1b-cc3c1ec437d2",
      "metadata": {
        "id": "b467119c-b5f4-4cfa-bf1b-cc3c1ec437d2"
      },
      "source": [
        "# Bite 7: Install Geopy to get lat and long"
      ]
    },
    {
      "cell_type": "markdown",
      "id": "f96687c3-eb0b-4c27-8ee4-0040c3e4dff5",
      "metadata": {
        "id": "f96687c3-eb0b-4c27-8ee4-0040c3e4dff5"
      },
      "source": [
        "# Bite 7.1:  Add the Geo table I provide for you to the database "
      ]
    },
    {
      "cell_type": "code",
      "execution_count": null,
      "id": "c436efb3-172a-457c-aa2c-920e1f3ac740",
      "metadata": {
        "id": "c436efb3-172a-457c-aa2c-920e1f3ac740"
      },
      "outputs": [],
      "source": []
    }
  ],
  "metadata": {
    "kernelspec": {
      "display_name": "Python 3 (ipykernel)",
      "language": "python",
      "name": "python3"
    },
    "language_info": {
      "codemirror_mode": {
        "name": "ipython",
        "version": 3
      },
      "file_extension": ".py",
      "mimetype": "text/x-python",
      "name": "python",
      "nbconvert_exporter": "python",
      "pygments_lexer": "ipython3",
      "version": "3.9.12"
    },
    "colab": {
      "provenance": [],
      "include_colab_link": true
    }
  },
  "nbformat": 4,
  "nbformat_minor": 5
}