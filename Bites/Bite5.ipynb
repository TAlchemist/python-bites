{
  "cells": [
    {
      "cell_type": "markdown",
      "metadata": {
        "id": "view-in-github",
        "colab_type": "text"
      },
      "source": [
        "<a href=\"https://colab.research.google.com/github/TAlchemist/python-bites/blob/main/Bites/Bite5.ipynb\" target=\"_parent\"><img src=\"https://colab.research.google.com/assets/colab-badge.svg\" alt=\"Open In Colab\"/></a>"
      ]
    },
    {
      "cell_type": "markdown",
      "id": "8246f5f2-0255-4359-91da-0b9f5624b880",
      "metadata": {
        "tags": [],
        "id": "8246f5f2-0255-4359-91da-0b9f5624b880"
      },
      "source": [
        "# Bite 5 Connect to a database, drop and query tables and convert them to a Pandas dataframe"
      ]
    },
    {
      "cell_type": "markdown",
      "id": "c89df35d-8728-4aad-8502-dec8205019a1",
      "metadata": {
        "id": "c89df35d-8728-4aad-8502-dec8205019a1"
      },
      "source": [
        "[![Open in Colab](https://colab.research.google.com/assets/colab-badge.svg)](https://colab.research.google.com/github/Curbal-Data-Labs/python-bites/blob/main/Bites/Bite5.ipynb)"
      ]
    },
    {
      "cell_type": "markdown",
      "id": "baac39b3-8f47-418e-b789-917e3f6ad522",
      "metadata": {
        "id": "baac39b3-8f47-418e-b789-917e3f6ad522"
      },
      "source": [
        "### Video tutorial and Bite 5 available [here](https://curbal.com/curbal-learning-portal/bite-5)"
      ]
    },
    {
      "cell_type": "markdown",
      "id": "af26233b-a896-446e-a6c4-a6a247045f60",
      "metadata": {
        "id": "af26233b-a896-446e-a6c4-a6a247045f60"
      },
      "source": [
        "[![Bite 1](https://img.youtube.com/vi/TZEueZc3hk8/0.jpg)](https://www.youtube.com/watch?v=TZEueZc3hk8)"
      ]
    },
    {
      "cell_type": "markdown",
      "id": "902e8b72-2c21-4390-9944-fc7658805d7f",
      "metadata": {
        "id": "902e8b72-2c21-4390-9944-fc7658805d7f"
      },
      "source": [
        "**1.** Import sql3 and pandas"
      ]
    },
    {
      "cell_type": "code",
      "execution_count": null,
      "id": "964144c5-cf60-4ad2-9de5-589ca6350958",
      "metadata": {
        "id": "964144c5-cf60-4ad2-9de5-589ca6350958"
      },
      "outputs": [],
      "source": []
    },
    {
      "cell_type": "markdown",
      "id": "666e0f85-61a8-48a3-99e2-3a4b35d8b300",
      "metadata": {
        "id": "666e0f85-61a8-48a3-99e2-3a4b35d8b300"
      },
      "source": [
        "**2.** Read the db and drop the solution table"
      ]
    },
    {
      "cell_type": "code",
      "execution_count": null,
      "id": "42eb5e6e-bb2e-4ac6-9a4d-d8394e531c91",
      "metadata": {
        "id": "42eb5e6e-bb2e-4ac6-9a4d-d8394e531c91"
      },
      "outputs": [],
      "source": []
    },
    {
      "cell_type": "markdown",
      "id": "ea181998-138c-4e28-9684-dcd046e0ac42",
      "metadata": {
        "id": "ea181998-138c-4e28-9684-dcd046e0ac42"
      },
      "source": [
        "**3.** Read Crime scene and convert to pandas"
      ]
    },
    {
      "cell_type": "code",
      "execution_count": null,
      "id": "6f402ee4-72c4-4373-bbde-7cba9292d60c",
      "metadata": {
        "id": "6f402ee4-72c4-4373-bbde-7cba9292d60c"
      },
      "outputs": [],
      "source": []
    },
    {
      "cell_type": "markdown",
      "id": "a42e2f14-60b1-4a70-9ed3-f3efc99b9ed3",
      "metadata": {
        "id": "a42e2f14-60b1-4a70-9ed3-f3efc99b9ed3"
      },
      "source": [
        "**4.** Get the info from Person table, convert it to a dataframe and add the table name"
      ]
    },
    {
      "cell_type": "code",
      "execution_count": null,
      "id": "aca91274-8566-4d7e-a525-3f201cb73bc5",
      "metadata": {
        "id": "aca91274-8566-4d7e-a525-3f201cb73bc5"
      },
      "outputs": [],
      "source": []
    },
    {
      "cell_type": "markdown",
      "id": "d4f7540c-dc12-4c90-8ba9-8b48b9fb4e2d",
      "metadata": {
        "id": "d4f7540c-dc12-4c90-8ba9-8b48b9fb4e2d"
      },
      "source": [
        "**5.** Loop over all the tables and append it to one big table to create our db schema"
      ]
    },
    {
      "cell_type": "code",
      "execution_count": null,
      "id": "a34df1a0-23b3-4548-b6e2-d16cacb3034b",
      "metadata": {
        "id": "a34df1a0-23b3-4548-b6e2-d16cacb3034b"
      },
      "outputs": [],
      "source": []
    },
    {
      "cell_type": "markdown",
      "id": "b467119c-b5f4-4cfa-bf1b-cc3c1ec437d2",
      "metadata": {
        "id": "b467119c-b5f4-4cfa-bf1b-cc3c1ec437d2"
      },
      "source": [
        "# Bite 5: Ask the user to query the tables as shown on the webpage"
      ]
    },
    {
      "cell_type": "markdown",
      "id": "0df0531a-3ef2-4b3d-9528-b778cb0feed1",
      "metadata": {
        "id": "0df0531a-3ef2-4b3d-9528-b778cb0feed1"
      },
      "source": [
        "https://curbal.com/curbal-learning-portal/bite-5"
      ]
    },
    {
      "cell_type": "code",
      "execution_count": null,
      "id": "bdfefee9-8a54-442c-8fe5-de14ca3c7e44",
      "metadata": {
        "id": "bdfefee9-8a54-442c-8fe5-de14ca3c7e44"
      },
      "outputs": [],
      "source": [
        "\n",
        "\n",
        "      \n"
      ]
    }
  ],
  "metadata": {
    "kernelspec": {
      "display_name": "Python 3 (ipykernel)",
      "language": "python",
      "name": "python3"
    },
    "language_info": {
      "codemirror_mode": {
        "name": "ipython",
        "version": 3
      },
      "file_extension": ".py",
      "mimetype": "text/x-python",
      "name": "python",
      "nbconvert_exporter": "python",
      "pygments_lexer": "ipython3",
      "version": "3.9.12"
    },
    "colab": {
      "provenance": [],
      "include_colab_link": true
    }
  },
  "nbformat": 4,
  "nbformat_minor": 5
}