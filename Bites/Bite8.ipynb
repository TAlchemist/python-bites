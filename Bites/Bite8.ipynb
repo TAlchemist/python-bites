{
  "cells": [
    {
      "cell_type": "markdown",
      "metadata": {
        "id": "view-in-github",
        "colab_type": "text"
      },
      "source": [
        "<a href=\"https://colab.research.google.com/github/TAlchemist/python-bites/blob/main/Bites/Bite8.ipynb\" target=\"_parent\"><img src=\"https://colab.research.google.com/assets/colab-badge.svg\" alt=\"Open In Colab\"/></a>"
      ]
    },
    {
      "cell_type": "markdown",
      "id": "8246f5f2-0255-4359-91da-0b9f5624b880",
      "metadata": {
        "tags": [],
        "id": "8246f5f2-0255-4359-91da-0b9f5624b880"
      },
      "source": [
        "# Bite 8: Plot all crimes in a map"
      ]
    },
    {
      "cell_type": "markdown",
      "id": "2a85c4ba-c75e-4517-9f9f-72ebed991fec",
      "metadata": {
        "id": "2a85c4ba-c75e-4517-9f9f-72ebed991fec"
      },
      "source": [
        "[![Open in Colab](https://colab.research.google.com/assets/colab-badge.svg)](https://colab.research.google.com/github/Curbal-Data-Labs/python-bites/blob/main/Bites/Bite8.ipynb)"
      ]
    },
    {
      "cell_type": "markdown",
      "id": "6bb22642-b093-41ff-951b-e8c8da769d23",
      "metadata": {
        "id": "6bb22642-b093-41ff-951b-e8c8da769d23"
      },
      "source": [
        "### Video tutorial and Bite 8 available [here](https://curbal.com/curbal-learning-portal/bite-8)"
      ]
    },
    {
      "cell_type": "markdown",
      "id": "e9c8eeb0-0fc9-420c-bb16-36640a831995",
      "metadata": {
        "id": "e9c8eeb0-0fc9-420c-bb16-36640a831995"
      },
      "source": [
        "\n",
        "[![Bite 1](https://img.youtube.com/vi/HN6qsUXKZ2I/0.jpg)](https://www.youtube.com/watch?v=HN6qsUXKZ2I)"
      ]
    },
    {
      "cell_type": "markdown",
      "id": "c5b8094e-4649-4b03-9d5f-0fae1ed3c0eb",
      "metadata": {
        "id": "c5b8094e-4649-4b03-9d5f-0fae1ed3c0eb"
      },
      "source": [
        "**1.** Connect to db"
      ]
    },
    {
      "cell_type": "markdown",
      "id": "3b327a83-60cf-4a2f-9fd8-12155345e88c",
      "metadata": {
        "id": "3b327a83-60cf-4a2f-9fd8-12155345e88c"
      },
      "source": [
        "**2.** Count the number of crimes per city"
      ]
    },
    {
      "cell_type": "markdown",
      "id": "cde57680-413b-4285-adc9-7ce0e0686644",
      "metadata": {
        "id": "cde57680-413b-4285-adc9-7ce0e0686644"
      },
      "source": [
        "**3 .** Read our newly created crimes_Geo table (bite 7) and lookup the crimes column count from crime report table"
      ]
    },
    {
      "cell_type": "markdown",
      "id": "5e50e7a4-a2da-41ee-be0c-331afab405fb",
      "metadata": {
        "id": "5e50e7a4-a2da-41ee-be0c-331afab405fb"
      },
      "source": [
        "**4 .** Plot the crimes in a map"
      ]
    },
    {
      "cell_type": "markdown",
      "id": "d647bdaa-923b-4193-823b-f895ff465318",
      "metadata": {
        "id": "d647bdaa-923b-4193-823b-f895ff465318"
      },
      "source": [
        "Install basemap. For anaconda users: conda install -c anaconda basemap"
      ]
    },
    {
      "cell_type": "markdown",
      "id": "b467119c-b5f4-4cfa-bf1b-cc3c1ec437d2",
      "metadata": {
        "id": "b467119c-b5f4-4cfa-bf1b-cc3c1ec437d2"
      },
      "source": [
        "# Bite 8: Put the game together"
      ]
    },
    {
      "cell_type": "code",
      "execution_count": null,
      "id": "ce63342d-5bac-44d2-a7d2-e5c0c0d7e050",
      "metadata": {
        "id": "ce63342d-5bac-44d2-a7d2-e5c0c0d7e050"
      },
      "outputs": [],
      "source": []
    }
  ],
  "metadata": {
    "kernelspec": {
      "display_name": "Python 3 (ipykernel)",
      "language": "python",
      "name": "python3"
    },
    "language_info": {
      "codemirror_mode": {
        "name": "ipython",
        "version": 3
      },
      "file_extension": ".py",
      "mimetype": "text/x-python",
      "name": "python",
      "nbconvert_exporter": "python",
      "pygments_lexer": "ipython3",
      "version": "3.9.12"
    },
    "colab": {
      "provenance": [],
      "include_colab_link": true
    }
  },
  "nbformat": 4,
  "nbformat_minor": 5
}