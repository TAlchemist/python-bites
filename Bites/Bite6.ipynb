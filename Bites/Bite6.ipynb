{
  "cells": [
    {
      "cell_type": "markdown",
      "metadata": {
        "id": "view-in-github",
        "colab_type": "text"
      },
      "source": [
        "<a href=\"https://colab.research.google.com/github/TAlchemist/python-bites/blob/main/Bites/Bite6.ipynb\" target=\"_parent\"><img src=\"https://colab.research.google.com/assets/colab-badge.svg\" alt=\"Open In Colab\"/></a>"
      ]
    },
    {
      "cell_type": "markdown",
      "id": "8246f5f2-0255-4359-91da-0b9f5624b880",
      "metadata": {
        "id": "8246f5f2-0255-4359-91da-0b9f5624b880"
      },
      "source": [
        "# Bite 6: Looping in python"
      ]
    },
    {
      "cell_type": "markdown",
      "id": "8fbb74f2-3a69-4eb4-853d-db15fbb084f4",
      "metadata": {
        "id": "8fbb74f2-3a69-4eb4-853d-db15fbb084f4"
      },
      "source": [
        "[![Open in Colab](https://colab.research.google.com/assets/colab-badge.svg)](https://colab.research.google.com/github/Curbal-Data-Labs/python-bites/blob/main/Bites/Bite6.ipynb)"
      ]
    },
    {
      "cell_type": "markdown",
      "id": "e3e2ca53-bd0a-445a-acb2-b5dca8dcfc84",
      "metadata": {
        "id": "e3e2ca53-bd0a-445a-acb2-b5dca8dcfc84"
      },
      "source": [
        "### Video tutorial and Bite 6 available [here](https://curbal.com/curbal-learning-portal/bite-6)"
      ]
    },
    {
      "cell_type": "markdown",
      "id": "7b9cb193-4d7c-4e71-bb0f-2a4c0b5a849d",
      "metadata": {
        "id": "7b9cb193-4d7c-4e71-bb0f-2a4c0b5a849d"
      },
      "source": [
        "[![Bite 1](https://img.youtube.com/vi/KWTLqS02g4o/0.jpg)](https://www.youtube.com/watch?v=KWTLqS02g4o)"
      ]
    },
    {
      "cell_type": "markdown",
      "id": "902e8b72-2c21-4390-9944-fc7658805d7f",
      "metadata": {
        "id": "902e8b72-2c21-4390-9944-fc7658805d7f"
      },
      "source": [
        "**1.** Let's create a loop from the question on bite 5"
      ]
    },
    {
      "cell_type": "code",
      "execution_count": null,
      "id": "964144c5-cf60-4ad2-9de5-589ca6350958",
      "metadata": {
        "id": "964144c5-cf60-4ad2-9de5-589ca6350958"
      },
      "outputs": [],
      "source": [
        " inspect_table = input(\"\\nWhich table would you like see?\\n\"\n",
        "          \"\\nType 1 for the crime Scene Report table\"\n",
        "          \"\\nType 2 for the drivers License table\"\n",
        "          \"\\nType 3 for the facebook event checkin table\"\n",
        "          \"\\nType 4 for the interview table\"\n",
        "          \"\\nType 5 for the get_fit_now_memeber table\"\n",
        "          \"\\nType 6 for the get fit now check in table\"\n",
        "          \"\\nType 7 for the income table\"\n",
        "          \"\\nType 8 for the person table\\n\")"
      ]
    },
    {
      "cell_type": "markdown",
      "id": "666e0f85-61a8-48a3-99e2-3a4b35d8b300",
      "metadata": {
        "id": "666e0f85-61a8-48a3-99e2-3a4b35d8b300"
      },
      "source": [
        "**2.** List of 1-8 numbers"
      ]
    },
    {
      "cell_type": "code",
      "execution_count": null,
      "id": "363f746a-b67a-4619-8ebf-2b24d062f0ac",
      "metadata": {
        "id": "363f746a-b67a-4619-8ebf-2b24d062f0ac",
        "outputId": "1a019e73-ed45-46eb-ec47-e74a0a11182b"
      },
      "outputs": [
        {
          "data": {
            "text/plain": [
              "[1, 2, 3, 4, 5, 6, 7, 8]"
            ]
          },
          "execution_count": 7,
          "metadata": {},
          "output_type": "execute_result"
        }
      ],
      "source": [
        "n = range(9)\n",
        "list(n)\n",
        "n2 = range(1,9)\n",
        "list(n2)"
      ]
    },
    {
      "cell_type": "markdown",
      "id": "ea181998-138c-4e28-9684-dcd046e0ac42",
      "metadata": {
        "id": "ea181998-138c-4e28-9684-dcd046e0ac42"
      },
      "source": [
        "**3.** Loop over the list with Type in front"
      ]
    },
    {
      "cell_type": "code",
      "execution_count": null,
      "id": "6f402ee4-72c4-4373-bbde-7cba9292d60c",
      "metadata": {
        "id": "6f402ee4-72c4-4373-bbde-7cba9292d60c",
        "outputId": "d501b01e-5fc7-4664-c82b-e16181ff8b37"
      },
      "outputs": [
        {
          "name": "stdout",
          "output_type": "stream",
          "text": [
            "Type 1\n",
            "Type 2\n",
            "Type 3\n",
            "Type 4\n",
            "Type 5\n",
            "Type 6\n",
            "Type 7\n",
            "Type 8\n"
          ]
        }
      ],
      "source": [
        "for nr in n2:\n",
        "    print(\"Type \" + str(nr))"
      ]
    },
    {
      "cell_type": "markdown",
      "id": "a42e2f14-60b1-4a70-9ed3-f3efc99b9ed3",
      "metadata": {
        "id": "a42e2f14-60b1-4a70-9ed3-f3efc99b9ed3"
      },
      "source": [
        "**4.** Get the table names from the database"
      ]
    },
    {
      "cell_type": "code",
      "execution_count": null,
      "id": "83daa042-b784-4c97-9edc-5333a16b6db5",
      "metadata": {
        "id": "83daa042-b784-4c97-9edc-5333a16b6db5",
        "outputId": "fee1c03d-c316-4c6c-d6bc-6b84dc23f1ff"
      },
      "outputs": [
        {
          "data": {
            "text/plain": [
              "0        crime_scene_report\n",
              "1           drivers_license\n",
              "2    facebook_event_checkin\n",
              "3                 interview\n",
              "4        get_fit_now_member\n",
              "5      get_fit_now_check_in\n",
              "6                  solution\n",
              "7                    income\n",
              "8                    person\n",
              "Name: name, dtype: object"
            ]
          },
          "execution_count": 27,
          "metadata": {},
          "output_type": "execute_result"
        }
      ],
      "source": [
        "import sqlite3\n",
        "import pandas as pd\n",
        "\n",
        "conn = sqlite3.connect(r'C:\\Users\\Ruth Pozuelo\\Documents\\GitHub\\local-python-game\\Data\\murder-mystery.db')\n",
        "#List all tables in dB and convert them to a list\n",
        "df_tbl= pd.read_sql_query('SELECT name from sqlite_master where type= \"table\"',conn)\n",
        "\n",
        "df_tbl['proper_name'] = df_tbl.name\n",
        "df_tbl.proper_name= df_tbl.proper_name.str.replace('_', ' ').str.title()\n",
        "df_proper =df_tbl.proper_name.tolist()   #convert to list\n",
        "df_name = df_tbl.name\n",
        "df_name"
      ]
    },
    {
      "cell_type": "markdown",
      "id": "d4f7540c-dc12-4c90-8ba9-8b48b9fb4e2d",
      "metadata": {
        "id": "d4f7540c-dc12-4c90-8ba9-8b48b9fb4e2d"
      },
      "source": [
        "**5.** Loop over all the tables and append it to one big table to create our db schema"
      ]
    },
    {
      "cell_type": "code",
      "execution_count": null,
      "id": "220dcc0e-9a37-4bb3-9726-5f193e868c36",
      "metadata": {
        "id": "220dcc0e-9a37-4bb3-9726-5f193e868c36",
        "outputId": "091b9da7-a462-45fb-c5dc-f12e7534a39c"
      },
      "outputs": [
        {
          "name": "stdout",
          "output_type": "stream",
          "text": [
            "Type 0 for all tables.\n",
            "Type 1 for the Crime Scene Report table.\n",
            "Type 2 for the Drivers License table.\n",
            "Type 3 for the Facebook Event Checkin table.\n",
            "Type 4 for the Interview table.\n",
            "Type 5 for the Get Fit Now Member table.\n",
            "Type 6 for the Get Fit Now Check In table.\n",
            "Type 7 for the Solution table.\n",
            "Type 8 for the Income table.\n"
          ]
        }
      ],
      "source": [
        "n3 = range(1,9)\n",
        "\n",
        "print(\"Type 0 for all tables.\")\n",
        "for nr, tbl in zip(n3, df_proper):   \n",
        "    print(\"Type \" + str(nr) + \" for the \" + tbl + \" table.\")"
      ]
    },
    {
      "cell_type": "markdown",
      "id": "c5b8094e-4649-4b03-9d5f-0fae1ed3c0eb",
      "metadata": {
        "id": "c5b8094e-4649-4b03-9d5f-0fae1ed3c0eb"
      },
      "source": [
        "**6.**  Loop over all tables info and create one table that contains all columns and info"
      ]
    },
    {
      "cell_type": "code",
      "execution_count": null,
      "id": "4a671c20-94d7-40b8-8cf0-193813b86f6d",
      "metadata": {
        "id": "4a671c20-94d7-40b8-8cf0-193813b86f6d",
        "outputId": "1e9f4944-93bd-401b-c4de-77fda3bee957"
      },
      "outputs": [
        {
          "name": "stdout",
          "output_type": "stream",
          "text": [
            "|    |   cid | name                  | type    |   notnull | dflt_value   |   pk | table_name             |\n",
            "|---:|------:|:----------------------|:--------|----------:|:-------------|-----:|:-----------------------|\n",
            "|  0 |     0 | date                  | INTEGER |         0 |              |    0 | crime_scene_report     |\n",
            "|  1 |     1 | type                  | TEXT    |         0 |              |    0 | crime_scene_report     |\n",
            "|  2 |     2 | description           | TEXT    |         0 |              |    0 | crime_scene_report     |\n",
            "|  3 |     3 | city                  | TEXT    |         0 |              |    0 | crime_scene_report     |\n",
            "|  0 |     0 | id                    | INTEGER |         0 |              |    1 | drivers_license        |\n",
            "|  1 |     1 | age                   | INTEGER |         0 |              |    0 | drivers_license        |\n",
            "|  2 |     2 | height                | INTEGER |         0 |              |    0 | drivers_license        |\n",
            "|  3 |     3 | eye_color             | TEXT    |         0 |              |    0 | drivers_license        |\n",
            "|  4 |     4 | hair_color            | TEXT    |         0 |              |    0 | drivers_license        |\n",
            "|  5 |     5 | gender                | TEXT    |         0 |              |    0 | drivers_license        |\n",
            "|  6 |     6 | plate_number          | TEXT    |         0 |              |    0 | drivers_license        |\n",
            "|  7 |     7 | car_make              | TEXT    |         0 |              |    0 | drivers_license        |\n",
            "|  8 |     8 | car_model             | TEXT    |         0 |              |    0 | drivers_license        |\n",
            "|  0 |     0 | person_id             | INTEGER |         0 |              |    0 | facebook_event_checkin |\n",
            "|  1 |     1 | event_id              | INTEGER |         0 |              |    0 | facebook_event_checkin |\n",
            "|  2 |     2 | event_name            | TEXT    |         0 |              |    0 | facebook_event_checkin |\n",
            "|  3 |     3 | date                  | INTEGER |         0 |              |    0 | facebook_event_checkin |\n",
            "|  0 |     0 | person_id             | INTEGER |         0 |              |    0 | interview              |\n",
            "|  1 |     1 | transcript            | TEXT    |         0 |              |    0 | interview              |\n",
            "|  0 |     0 | id                    | TEXT    |         0 |              |    1 | get_fit_now_member     |\n",
            "|  1 |     1 | person_id             | INTEGER |         0 |              |    0 | get_fit_now_member     |\n",
            "|  2 |     2 | name                  | TEXT    |         0 |              |    0 | get_fit_now_member     |\n",
            "|  3 |     3 | membership_start_date | INTEGER |         0 |              |    0 | get_fit_now_member     |\n",
            "|  4 |     4 | membership_status     | TEXT    |         0 |              |    0 | get_fit_now_member     |\n",
            "|  0 |     0 | membership_id         | TEXT    |         0 |              |    0 | get_fit_now_check_in   |\n",
            "|  1 |     1 | check_in_date         | INTEGER |         0 |              |    0 | get_fit_now_check_in   |\n",
            "|  2 |     2 | check_in_time         | INTEGER |         0 |              |    0 | get_fit_now_check_in   |\n",
            "|  3 |     3 | check_out_time        | INTEGER |         0 |              |    0 | get_fit_now_check_in   |\n",
            "|  0 |     0 | user                  | INTEGER |         0 |              |    0 | solution               |\n",
            "|  1 |     1 | value                 | TEXT    |         0 |              |    0 | solution               |\n",
            "|  0 |     0 | ssn                   | CHAR    |         0 |              |    1 | income                 |\n",
            "|  1 |     1 | annual_income         | INTEGER |         0 |              |    0 | income                 |\n",
            "|  0 |     0 | id                    | INTEGER |         0 |              |    1 | person                 |\n",
            "|  1 |     1 | name                  | TEXT    |         0 |              |    0 | person                 |\n",
            "|  2 |     2 | license_id            | INTEGER |         0 |              |    0 | person                 |\n",
            "|  3 |     3 | address_number        | INTEGER |         0 |              |    0 | person                 |\n",
            "|  4 |     4 | address_street_name   | TEXT    |         0 |              |    0 | person                 |\n",
            "|  5 |     5 | ssn                   | CHAR    |         0 |              |    0 | person                 |\n"
          ]
        }
      ],
      "source": [
        "result_list = []\n",
        "for tbl_name in df_name:\n",
        "    result = pd.read_sql_query( \"PRAGMA table_info('%s')\" %  tbl_name, conn)\n",
        "    result[\"table_name\"] = tbl_name\n",
        "    result_list.append(result)\n",
        "\n",
        "final_result = pd.concat(result_list)\n",
        "schema = print(final_result.to_markdown())\n",
        "schema"
      ]
    },
    {
      "cell_type": "markdown",
      "id": "691d43d9-7851-4e56-b507-78005a8c9a4b",
      "metadata": {
        "id": "691d43d9-7851-4e56-b507-78005a8c9a4b"
      },
      "source": [
        "**7.** User input validation with try except"
      ]
    },
    {
      "cell_type": "code",
      "execution_count": null,
      "id": "044cc46e-0382-4c3d-ae8e-04d0dbf4200d",
      "metadata": {
        "id": "044cc46e-0382-4c3d-ae8e-04d0dbf4200d",
        "outputId": "4ad842d5-e6c4-47ad-9d72-9442884a6a9a"
      },
      "outputs": [
        {
          "name": "stdout",
          "output_type": "stream",
          "text": [
            "Which table would you like see?\n",
            "\n",
            "Type 0 for all tables.\n",
            "Type 1 for the Crime Scene Report table.\n",
            "Type 2 for the Drivers License table.\n",
            "Type 3 for the Facebook Event Checkin table.\n",
            "Type 4 for the Interview table.\n",
            "Type 5 for the Get Fit Now Member table.\n",
            "Type 6 for the Get Fit Now Check In table.\n",
            "Type 7 for the Solution table.\n",
            "Type 8 for the Income table.\n"
          ]
        },
        {
          "name": "stdin",
          "output_type": "stream",
          "text": [
            " 12\n"
          ]
        },
        {
          "name": "stdout",
          "output_type": "stream",
          "text": [
            "\n",
            "Sorry, wrong answer. Only numbers from 1 to 8 allowed. Try again!\n",
            "\n",
            "Which table would you like see?\n",
            "\n",
            "Type 0 for all tables.\n",
            "Type 1 for the Crime Scene Report table.\n",
            "Type 2 for the Drivers License table.\n",
            "Type 3 for the Facebook Event Checkin table.\n",
            "Type 4 for the Interview table.\n",
            "Type 5 for the Get Fit Now Member table.\n",
            "Type 6 for the Get Fit Now Check In table.\n",
            "Type 7 for the Solution table.\n",
            "Type 8 for the Income table.\n"
          ]
        },
        {
          "name": "stdin",
          "output_type": "stream",
          "text": [
            " r\n"
          ]
        },
        {
          "name": "stdout",
          "output_type": "stream",
          "text": [
            "\n",
            "Sorry, wrong answer. Only numbers from 1 to 8 allowed. Try again!\n",
            "\n",
            "Which table would you like see?\n",
            "\n",
            "Type 0 for all tables.\n",
            "Type 1 for the Crime Scene Report table.\n",
            "Type 2 for the Drivers License table.\n",
            "Type 3 for the Facebook Event Checkin table.\n",
            "Type 4 for the Interview table.\n",
            "Type 5 for the Get Fit Now Member table.\n",
            "Type 6 for the Get Fit Now Check In table.\n",
            "Type 7 for the Solution table.\n",
            "Type 8 for the Income table.\n"
          ]
        },
        {
          "name": "stdin",
          "output_type": "stream",
          "text": [
            " r\n"
          ]
        },
        {
          "name": "stdout",
          "output_type": "stream",
          "text": [
            "\n",
            "Sorry, wrong answer. Only numbers from 1 to 8 allowed. Try again!\n",
            "\n",
            "Which table would you like see?\n",
            "\n",
            "Type 0 for all tables.\n",
            "Type 1 for the Crime Scene Report table.\n",
            "Type 2 for the Drivers License table.\n",
            "Type 3 for the Facebook Event Checkin table.\n",
            "Type 4 for the Interview table.\n",
            "Type 5 for the Get Fit Now Member table.\n",
            "Type 6 for the Get Fit Now Check In table.\n",
            "Type 7 for the Solution table.\n",
            "Type 8 for the Income table.\n"
          ]
        },
        {
          "name": "stdin",
          "output_type": "stream",
          "text": [
            " 3\n"
          ]
        }
      ],
      "source": [
        "n3 = range(1,9)\n",
        "\n",
        "while True:\n",
        "    print(\"Which table would you like see?\\n\")\n",
        "    print(\"Type 0 for all tables.\")\n",
        "    for nr, tbl in zip(n3, df_proper):   \n",
        "        print(\"Type \" + str(nr) + \" for the \" + tbl + \" table.\")\n",
        "    inspect_table = input()\n",
        "    \n",
        "    try:\n",
        "        if int(inspect_table) not in range(9):\n",
        "            print(\"\\nSorry, wrong answer. Only numbers from 1 to 8 allowed. Try again!\\n\")\n",
        "            continue\n",
        "        else:\n",
        "            break\n",
        "    except:\n",
        "        print(\"\\nSorry, wrong answer. Only numbers from 1 to 8 allowed. Try again!\\n\")\n",
        "        continue\n",
        "    "
      ]
    },
    {
      "cell_type": "markdown",
      "id": "b467119c-b5f4-4cfa-bf1b-cc3c1ec437d2",
      "metadata": {
        "id": "b467119c-b5f4-4cfa-bf1b-cc3c1ec437d2"
      },
      "source": [
        "# Bite 6: Put the game together as shown in website"
      ]
    },
    {
      "cell_type": "markdown",
      "id": "c73b7701-40af-44b9-8d2b-0cd614183dbf",
      "metadata": {
        "id": "c73b7701-40af-44b9-8d2b-0cd614183dbf"
      },
      "source": [
        "https://curbal.com/curbal-learning-portal/bite-6"
      ]
    },
    {
      "cell_type": "code",
      "execution_count": null,
      "id": "5dfc15f7-d530-43a7-8d70-a9b1ca382e06",
      "metadata": {
        "id": "5dfc15f7-d530-43a7-8d70-a9b1ca382e06",
        "outputId": "e5d3e2e9-473b-4500-98b7-f1a1942e49c8"
      },
      "outputs": [
        {
          "name": "stdout",
          "output_type": "stream",
          "text": [
            "\n",
            "A crime has taken place and Curbal Crime Labs (CCL) needs your help.\n",
            "The crime is a murder that occurred sometime on Jan.15, 2018.\n",
            "and a crime data analyst or curbalist as we call it at CCL,\n",
            "is needed to help solve the case.\n",
            "\n",
            "All the crime files will be provided to you\n",
            "but before we do that:\n",
            "\n"
          ]
        },
        {
          "name": "stdin",
          "output_type": "stream",
          "text": [
            "Do you accept the challenge? (y/n)\n",
            " y\n",
            "\n",
            "What is your name?\n",
            " ruth\n"
          ]
        },
        {
          "name": "stdout",
          "output_type": "stream",
          "text": [
            "\n",
            "Hi Ruth! Welcome to Curbal Crime Labs. \n",
            "Let's get you inciated!\n",
            "\n",
            "\n",
            "To be able to solve this murder, you will need to familiarize yourself\n",
            "with our crime database. The following tables are available to your disposal:\n",
            "\n",
            "Crime Scene Report\n",
            "Drivers License\n",
            "Facebook Event Checkin\n",
            "Interview\n",
            "Get Fit Now Member\n",
            "Get Fit Now Check In\n",
            "Solution\n",
            "Income\n",
            "Person\n",
            "\n",
            "Let's explore those tables before moving forward.\n",
            "Which table would you like see?\n",
            "\n",
            "Type 0 for all tables.\n",
            "Type 1 for the Crime Scene Report table.\n",
            "Type 2 for the Drivers License table.\n",
            "Type 3 for the Facebook Event Checkin table.\n",
            "Type 4 for the Interview table.\n",
            "Type 5 for the Get Fit Now Member table.\n",
            "Type 6 for the Get Fit Now Check In table.\n",
            "Type 7 for the Solution table.\n",
            "Type 8 for the Income table.\n"
          ]
        },
        {
          "name": "stdin",
          "output_type": "stream",
          "text": [
            " 0\n"
          ]
        },
        {
          "name": "stdout",
          "output_type": "stream",
          "text": [
            "\n",
            " Here you have all tables and columns.\n",
            "|    |   cid | name                  | type    |   notnull | dflt_value   |   pk | table_name             |\n",
            "|---:|------:|:----------------------|:--------|----------:|:-------------|-----:|:-----------------------|\n",
            "|  0 |     0 | date                  | INTEGER |         0 |              |    0 | crime_scene_report     |\n",
            "|  1 |     1 | type                  | TEXT    |         0 |              |    0 | crime_scene_report     |\n",
            "|  2 |     2 | description           | TEXT    |         0 |              |    0 | crime_scene_report     |\n",
            "|  3 |     3 | city                  | TEXT    |         0 |              |    0 | crime_scene_report     |\n",
            "|  0 |     0 | id                    | INTEGER |         0 |              |    1 | drivers_license        |\n",
            "|  1 |     1 | age                   | INTEGER |         0 |              |    0 | drivers_license        |\n",
            "|  2 |     2 | height                | INTEGER |         0 |              |    0 | drivers_license        |\n",
            "|  3 |     3 | eye_color             | TEXT    |         0 |              |    0 | drivers_license        |\n",
            "|  4 |     4 | hair_color            | TEXT    |         0 |              |    0 | drivers_license        |\n",
            "|  5 |     5 | gender                | TEXT    |         0 |              |    0 | drivers_license        |\n",
            "|  6 |     6 | plate_number          | TEXT    |         0 |              |    0 | drivers_license        |\n",
            "|  7 |     7 | car_make              | TEXT    |         0 |              |    0 | drivers_license        |\n",
            "|  8 |     8 | car_model             | TEXT    |         0 |              |    0 | drivers_license        |\n",
            "|  0 |     0 | person_id             | INTEGER |         0 |              |    0 | facebook_event_checkin |\n",
            "|  1 |     1 | event_id              | INTEGER |         0 |              |    0 | facebook_event_checkin |\n",
            "|  2 |     2 | event_name            | TEXT    |         0 |              |    0 | facebook_event_checkin |\n",
            "|  3 |     3 | date                  | INTEGER |         0 |              |    0 | facebook_event_checkin |\n",
            "|  0 |     0 | person_id             | INTEGER |         0 |              |    0 | interview              |\n",
            "|  1 |     1 | transcript            | TEXT    |         0 |              |    0 | interview              |\n",
            "|  0 |     0 | id                    | TEXT    |         0 |              |    1 | get_fit_now_member     |\n",
            "|  1 |     1 | person_id             | INTEGER |         0 |              |    0 | get_fit_now_member     |\n",
            "|  2 |     2 | name                  | TEXT    |         0 |              |    0 | get_fit_now_member     |\n",
            "|  3 |     3 | membership_start_date | INTEGER |         0 |              |    0 | get_fit_now_member     |\n",
            "|  4 |     4 | membership_status     | TEXT    |         0 |              |    0 | get_fit_now_member     |\n",
            "|  0 |     0 | membership_id         | TEXT    |         0 |              |    0 | get_fit_now_check_in   |\n",
            "|  1 |     1 | check_in_date         | INTEGER |         0 |              |    0 | get_fit_now_check_in   |\n",
            "|  2 |     2 | check_in_time         | INTEGER |         0 |              |    0 | get_fit_now_check_in   |\n",
            "|  3 |     3 | check_out_time        | INTEGER |         0 |              |    0 | get_fit_now_check_in   |\n",
            "|  0 |     0 | user                  | INTEGER |         0 |              |    0 | solution               |\n",
            "|  1 |     1 | value                 | TEXT    |         0 |              |    0 | solution               |\n",
            "|  0 |     0 | ssn                   | CHAR    |         0 |              |    1 | income                 |\n",
            "|  1 |     1 | annual_income         | INTEGER |         0 |              |    0 | income                 |\n",
            "|  0 |     0 | id                    | INTEGER |         0 |              |    1 | person                 |\n",
            "|  1 |     1 | name                  | TEXT    |         0 |              |    0 | person                 |\n",
            "|  2 |     2 | license_id            | INTEGER |         0 |              |    0 | person                 |\n",
            "|  3 |     3 | address_number        | INTEGER |         0 |              |    0 | person                 |\n",
            "|  4 |     4 | address_street_name   | TEXT    |         0 |              |    0 | person                 |\n",
            "|  5 |     5 | ssn                   | CHAR    |         0 |              |    0 | person                 |\n"
          ]
        },
        {
          "name": "stdin",
          "output_type": "stream",
          "text": [
            "\n",
            " There you go, need more help? (y/n)?\n",
            " y\n"
          ]
        },
        {
          "name": "stdout",
          "output_type": "stream",
          "text": [
            "Which table would you like see?\n",
            "\n",
            "Type 0 for all tables.\n",
            "Type 1 for the Crime Scene Report table.\n",
            "Type 2 for the Drivers License table.\n",
            "Type 3 for the Facebook Event Checkin table.\n",
            "Type 4 for the Interview table.\n",
            "Type 5 for the Get Fit Now Member table.\n",
            "Type 6 for the Get Fit Now Check In table.\n",
            "Type 7 for the Solution table.\n",
            "Type 8 for the Income table.\n"
          ]
        },
        {
          "name": "stdin",
          "output_type": "stream",
          "text": [
            " 3\n"
          ]
        },
        {
          "name": "stdout",
          "output_type": "stream",
          "text": [
            "\n",
            " Here you have the facebook_event_checkin table:\n",
            "\n",
            "   cid        name     type  notnull dflt_value  pk              table_name\n",
            "0    0   person_id  INTEGER        0       None   0  facebook_event_checkin\n",
            "1    1    event_id  INTEGER        0       None   0  facebook_event_checkin\n",
            "2    2  event_name     TEXT        0       None   0  facebook_event_checkin\n",
            "3    3        date  INTEGER        0       None   0  facebook_event_checkin\n"
          ]
        },
        {
          "name": "stdin",
          "output_type": "stream",
          "text": [
            "\n",
            " There you go, need more help? (y/n)?\n",
            " y\n"
          ]
        },
        {
          "name": "stdout",
          "output_type": "stream",
          "text": [
            "Which table would you like see?\n",
            "\n",
            "Type 0 for all tables.\n",
            "Type 1 for the Crime Scene Report table.\n",
            "Type 2 for the Drivers License table.\n",
            "Type 3 for the Facebook Event Checkin table.\n",
            "Type 4 for the Interview table.\n",
            "Type 5 for the Get Fit Now Member table.\n",
            "Type 6 for the Get Fit Now Check In table.\n",
            "Type 7 for the Solution table.\n",
            "Type 8 for the Income table.\n"
          ]
        },
        {
          "name": "stdin",
          "output_type": "stream",
          "text": [
            " 5\n"
          ]
        },
        {
          "name": "stdout",
          "output_type": "stream",
          "text": [
            "\n",
            " Here you have the get_fit_now_member table:\n",
            "\n",
            "   cid                   name     type  notnull dflt_value  pk  \\\n",
            "0    0                     id     TEXT        0       None   1   \n",
            "1    1              person_id  INTEGER        0       None   0   \n",
            "2    2                   name     TEXT        0       None   0   \n",
            "3    3  membership_start_date  INTEGER        0       None   0   \n",
            "4    4      membership_status     TEXT        0       None   0   \n",
            "\n",
            "           table_name  \n",
            "0  get_fit_now_member  \n",
            "1  get_fit_now_member  \n",
            "2  get_fit_now_member  \n",
            "3  get_fit_now_member  \n",
            "4  get_fit_now_member  \n"
          ]
        },
        {
          "name": "stdin",
          "output_type": "stream",
          "text": [
            "\n",
            " There you go, need more help? (y/n)?\n",
            " n\n"
          ]
        },
        {
          "name": "stdout",
          "output_type": "stream",
          "text": [
            "Great ,let's do something else!\n"
          ]
        }
      ],
      "source": [
        "import sqlite3\n",
        "import pandas as pd\n",
        "\n",
        "def intro():\n",
        "    print(\"\\nA crime has taken place and Curbal Crime Labs (CCL) needs your help.\\n\" \n",
        "      \"The crime is a murder that occurred sometime on Jan.15, 2018.\\n\"\n",
        "      \"and a crime data analyst or curbalist as we call it at CCL,\\n\"\n",
        "      \"is needed to help solve the case.\\n\"\n",
        "      \"\\nAll the crime files will be provided to you\\n\"\n",
        "      \"but before we do that:\\n\")\n",
        "\n",
        "def username():\n",
        "    while True:\n",
        "\n",
        "        Accept_challenge = input(\"Do you accept the challenge? (y/n)\\n\")\n",
        "\n",
        "        if Accept_challenge.lower().strip() != \"y\" and Accept_challenge.lower().strip() != \"n\":   \n",
        "            print(\"Only yes or no answers are allowed, please try again.\\n\")\n",
        "            continue\n",
        "        else:\n",
        "            break\n",
        "\n",
        "    if Accept_challenge.lower().strip() == \"y\":\n",
        "        Participant = input(\"\\nWhat is your name?\\n\")\n",
        "        print(\"\\nHi \"+Participant.title() + \"! Welcome to Curbal Crime Labs. \"\n",
        "        \"\\nLet's get you inciated!\\n\")\n",
        "    elif Accept_challenge.lower().strip() == \"n\":\n",
        "        print(\"\\nBye, bye.\")\n",
        "\n",
        "\n",
        "def get_data():\n",
        "    #read the db\n",
        "    global df_tbl\n",
        "    global conn\n",
        "    conn = sqlite3.connect(r'C:\\Users\\Ruth Pozuelo\\Documents\\GitHub\\local-python-game\\Data\\murder-mystery.db')\n",
        "    #List all tables in dB and convert them to a list\n",
        "    df_tbl= pd.read_sql_query('SELECT name from sqlite_master where type= \"table\"',conn)\n",
        "\n",
        "    df_tbl['proper_name'] = df_tbl.name\n",
        "    df_tbl.proper_name= df_tbl.proper_name.str.replace('_', ' ').str.title()\n",
        "    df_proper =df_tbl.proper_name.tolist()   #convert to list\n",
        "    df_name = df_tbl.name\n",
        "\n",
        "def get_all_tables():\n",
        "    \n",
        "    global schema\n",
        "    result_list = []\n",
        "    for tbl_name in df_name:\n",
        "        result = pd.read_sql_query( \"PRAGMA table_info('%s')\" %  tbl_name, conn)\n",
        "        result[\"table_name\"] = tbl_name\n",
        "        result_list.append(result)\n",
        "\n",
        "    final_result = pd.concat(result_list)\n",
        "    schema = print(final_result.to_markdown())\n",
        "    schema\n",
        "\n",
        "def get_x_info(tbl_name):    \n",
        "    #Loop over all the tables, get the table info and append it to a big table\n",
        "    result = pd.read_sql_query(\"PRAGMA table_info('%s')\" %  tbl_name,conn) \n",
        "    result[\"table_name\"] = tbl_name\n",
        "    scheme_tabular = print(result)\n",
        "    \n",
        "\n",
        "\n",
        "intro()\n",
        "username()\n",
        "\n",
        "print(\"\\nTo be able to solve this murder, you will need to familiarize yourself\\n\"\n",
        "      \"with our crime database. The following tables are available to your disposal:\\n\")\n",
        "\n",
        "get_data()\n",
        "list(map(print, df_proper))\n",
        "print(\"\\nLet's explore those tables before moving forward.\")\n",
        "\n",
        "\n",
        "while True:\n",
        "    while True:\n",
        "        n = range(1,9)\n",
        "        print(\"Which table would you like see?\\n\")\n",
        "        print(\"Type 0 for all tables.\")\n",
        "        for nr, tbl in zip(n, df_proper):   \n",
        "            print(\"Type \" + str(nr) + \" for the \" + tbl + \" table.\")\n",
        "        inspect_table = input()\n",
        "\n",
        "        try:\n",
        "            if int(inspect_table) not in range(9):\n",
        "                print(\"\\nSorry, wrong answer. Only numbers from 1 to 8 allowed. Try again!\\n\")\n",
        "                continue\n",
        "            else:\n",
        "                break\n",
        "        except:\n",
        "            print(\"\\nSorry, wrong answer. Only numbers from 1 to 8 allowed. Try again!\\n\")\n",
        "            continue\n",
        "\n",
        "     #show the entire table\n",
        "    if str(inspect_table) == \"0\":               \n",
        "        print(\"\\n Here you have all tables and columns.\")\n",
        "        get_all_tables()\n",
        "        more_help =input( \"\\n There you go, need more help? (y/n)?\\n\").lower().strip()\n",
        "        if more_help ==\"y\":\n",
        "            continue\n",
        "    \n",
        "    #looop the tables            \n",
        "    for i,tbl in zip(n, df_name):\n",
        "        if str(inspect_table) == str(i):               \n",
        "            print(\"\\n Here you have the \" + tbl + \" table:\\n\")\n",
        "            get_x_info(tbl)\n",
        "            while True:\n",
        "                more_help =input( \"\\n There you go, need more help? (y/n)?\\n\").lower().strip()\n",
        "                if more_help !='y' and more_help !='n':\n",
        "                    print(\"\\nSorry, wrong answer. Only 'y' or 'n' answers allowed. Try again!\")\n",
        "                    continue\n",
        "                else:\n",
        "                    break\n",
        "              \n",
        "    if more_help ==\"y\":\n",
        "        continue\n",
        "    elif more_help ==\"n\":\n",
        "        print(\"Great ,let's do something else!\")\n",
        "        break"
      ]
    },
    {
      "cell_type": "code",
      "execution_count": null,
      "id": "b95684dc-5e19-45ad-b4b3-a4d77e7b14a6",
      "metadata": {
        "id": "b95684dc-5e19-45ad-b4b3-a4d77e7b14a6"
      },
      "outputs": [],
      "source": []
    }
  ],
  "metadata": {
    "kernelspec": {
      "display_name": "Python 3 (ipykernel)",
      "language": "python",
      "name": "python3"
    },
    "language_info": {
      "codemirror_mode": {
        "name": "ipython",
        "version": 3
      },
      "file_extension": ".py",
      "mimetype": "text/x-python",
      "name": "python",
      "nbconvert_exporter": "python",
      "pygments_lexer": "ipython3",
      "version": "3.9.12"
    },
    "colab": {
      "provenance": [],
      "include_colab_link": true
    }
  },
  "nbformat": 4,
  "nbformat_minor": 5
}